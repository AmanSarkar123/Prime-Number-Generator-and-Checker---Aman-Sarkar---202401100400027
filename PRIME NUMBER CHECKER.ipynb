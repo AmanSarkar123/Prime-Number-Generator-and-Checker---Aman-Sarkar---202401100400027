{
  "nbformat": 4,
  "nbformat_minor": 0,
  "metadata": {
    "colab": {
      "provenance": []
    },
    "kernelspec": {
      "name": "python3",
      "display_name": "Python 3"
    },
    "language_info": {
      "name": "python"
    }
  },
  "cells": [
    {
      "cell_type": "code",
      "execution_count": 1,
      "metadata": {
        "id": "MnLFz9hRUhI5"
      },
      "outputs": [],
      "source": [
        "import pandas as pd\n",
        "import numpy as np\n",
        "import matplotlib.pyplot as plt\n",
        "import seaborn as sns"
      ]
    },
    {
      "cell_type": "code",
      "source": [
        "df = pd.read_csv('/content/drive/MyDrive/prime_numbers (1).csv')\n"
      ],
      "metadata": {
        "id": "ODPH83i1VLGT"
      },
      "execution_count": 6,
      "outputs": []
    },
    {
      "cell_type": "code",
      "source": [
        "print(df.head())"
      ],
      "metadata": {
        "colab": {
          "base_uri": "https://localhost:8080/"
        },
        "id": "oyyqmV8FYC2u",
        "outputId": "2d2b4d5f-f9c6-4f7b-b8b0-8f6dc1dd5886"
      },
      "execution_count": 7,
      "outputs": [
        {
          "output_type": "stream",
          "name": "stdout",
          "text": [
            "   Index  Prime Numbers\n",
            "0      1              2\n",
            "1      2              3\n",
            "2      3              5\n",
            "3      4              7\n",
            "4      5             11\n"
          ]
        }
      ]
    },
    {
      "cell_type": "code",
      "source": [
        "print(df.shape)"
      ],
      "metadata": {
        "colab": {
          "base_uri": "https://localhost:8080/"
        },
        "id": "VTwKWXmRYsVz",
        "outputId": "e9d791fb-a986-4dc7-c99d-44107c5bf76a"
      },
      "execution_count": 8,
      "outputs": [
        {
          "output_type": "stream",
          "name": "stdout",
          "text": [
            "(168, 2)\n"
          ]
        }
      ]
    },
    {
      "cell_type": "code",
      "source": [
        "print(df.describe())"
      ],
      "metadata": {
        "colab": {
          "base_uri": "https://localhost:8080/"
        },
        "id": "Y0mi0xSYYv9h",
        "outputId": "2aef65cb-6fa4-4f65-f8b6-31f19e66e819"
      },
      "execution_count": 9,
      "outputs": [
        {
          "output_type": "stream",
          "name": "stdout",
          "text": [
            "            Index  Prime Numbers\n",
            "count  168.000000     168.000000\n",
            "mean    84.500000     453.136905\n",
            "std     48.641546     298.192417\n",
            "min      1.000000       2.000000\n",
            "25%     42.750000     188.500000\n",
            "50%     84.500000     436.000000\n",
            "75%    126.250000     703.000000\n",
            "max    168.000000     997.000000\n"
          ]
        }
      ]
    },
    {
      "cell_type": "code",
      "source": [
        "print(df.dtypes)"
      ],
      "metadata": {
        "colab": {
          "base_uri": "https://localhost:8080/"
        },
        "id": "zasFIhslY2sh",
        "outputId": "52d0988a-dd8d-46c5-97e8-938764acffa3"
      },
      "execution_count": 10,
      "outputs": [
        {
          "output_type": "stream",
          "name": "stdout",
          "text": [
            "Index            int64\n",
            "Prime Numbers    int64\n",
            "dtype: object\n"
          ]
        }
      ]
    },
    {
      "cell_type": "code",
      "source": [
        "#Code:-\n",
        "import pandas as pd\n",
        "import matplotlib.pyplot as plt\n",
        "\n",
        "# Function to check if a number is prime\n",
        "def is_prime(n):\n",
        "    if n < 2:\n",
        "        return False\n",
        "    for i in range(2, int(n**0.5) + 1):\n",
        "        if n % i == 0:\n",
        "            return False\n",
        "    return True\n",
        "\n",
        "# Function to generate prime numbers up to a given limit\n",
        "def generate_prime_numbers(limit):\n",
        "    return [n for n in range(limit) if is_prime(n)]\n",
        "\n",
        "# Function to print and visualize prime numbers\n",
        "def prime_generator_and_checker(limit):\n",
        "    primes = generate_prime_numbers(limit)\n",
        "    df = pd.DataFrame({\"Prime Numbers\": primes})\n",
        "    print(\"Generated Prime Numbers:\")\n",
        "    print(df.head(20))  # Display first 20 primes\n",
        "\n",
        "    # Plot\n",
        "    plt.figure(figsize=(10, 5))\n",
        "    plt.scatter(df.index, df[\"Prime Numbers\"], color=\"blue\", s=10, label=\"Prime Numbers\")\n",
        "    plt.xlabel(\"Index\")\n",
        "    plt.ylabel(\"Prime Numbers\")\n",
        "    plt.title(\"Prime Number Distribution\")\n",
        "    plt.legend()\n",
        "    plt.grid()\n",
        "    plt.show()\n",
        "\n",
        "# Example usage\n",
        "limit = 100  # Change this limit as needed\n",
        "prime_generator_and_checker(limit)"
      ],
      "metadata": {
        "id": "LIQ2VIJwhUW0"
      },
      "execution_count": null,
      "outputs": []
    }
  ]
}